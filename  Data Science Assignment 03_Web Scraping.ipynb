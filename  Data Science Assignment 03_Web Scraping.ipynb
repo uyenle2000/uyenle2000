{
 "cells": [
  {
   "cell_type": "code",
   "execution_count": 14,
   "id": "4d45bdac",
   "metadata": {},
   "outputs": [],
   "source": [
    "import requests\n",
    "import pandas as pd\n",
    "from bs4 import BeautifulSoup"
   ]
  },
  {
   "cell_type": "code",
   "execution_count": 15,
   "id": "996694ee",
   "metadata": {},
   "outputs": [
    {
     "name": "stdout",
     "output_type": "stream",
     "text": [
      "<Response [200]>\n"
     ]
    }
   ],
   "source": [
    "url = \"https://webpages.charlotte.edu/mscipion/\"\n",
    "\n",
    "r= requests.get(url)\n",
    "print(r)\n"
   ]
  },
  {
   "cell_type": "code",
   "execution_count": 53,
   "id": "8c168a87",
   "metadata": {},
   "outputs": [],
   "source": [
    "soup = BeautifulSoup(r.text, \"lxml\")"
   ]
  },
  {
   "cell_type": "code",
   "execution_count": 17,
   "id": "ab16992a",
   "metadata": {},
   "outputs": [],
   "source": [
    "table = soup.find(\"table\", class_=\"table table-sm table-hover screenertable\")"
   ]
  },
  {
   "cell_type": "code",
   "execution_count": 54,
   "id": "701c8151",
   "metadata": {},
   "outputs": [
    {
     "name": "stdout",
     "output_type": "stream",
     "text": [
      "[<th>Student</th>, <th>Favourite Computer Language</th>, <th>Years of Experience</th>]\n"
     ]
    }
   ],
   "source": [
    "headers = table.find_all(\"th\")\n",
    "print(headers)"
   ]
  },
  {
   "cell_type": "code",
   "execution_count": 55,
   "id": "599c0747",
   "metadata": {},
   "outputs": [
    {
     "name": "stdout",
     "output_type": "stream",
     "text": [
      "['Student', 'Favourite Computer Language', 'Years of Experience']\n"
     ]
    }
   ],
   "source": [
    "titles = []\n",
    "\n",
    "for i in headers:\n",
    "    title = i.text\n",
    "    titles.append(title)\n",
    "    \n",
    "print(titles)"
   ]
  },
  {
   "cell_type": "code",
   "execution_count": 56,
   "id": "387508d4",
   "metadata": {},
   "outputs": [
    {
     "name": "stdout",
     "output_type": "stream",
     "text": [
      "Empty DataFrame\n",
      "Columns: [Student, Favourite Computer Language, Years of Experience]\n",
      "Index: []\n"
     ]
    }
   ],
   "source": [
    "df= pd.DataFrame(columns=titles)\n",
    "print(df)"
   ]
  },
  {
   "cell_type": "code",
   "execution_count": 57,
   "id": "6685e65c",
   "metadata": {},
   "outputs": [
    {
     "name": "stdout",
     "output_type": "stream",
     "text": [
      "[<tr>\n",
      "<th>Student</th>\n",
      "<th>Favourite Computer Language</th>\n",
      "<th>Years of Experience</th>\n",
      "</tr>, <tr>\n",
      "<td>Fred</td>\n",
      "<td>Kotlin</td>\n",
      "<td>4</td>\n",
      "</tr>, <tr>\n",
      "<td>Paula</td>\n",
      "<td>Python</td>\n",
      "<td>2</td>\n",
      "</tr>, <tr>\n",
      "<td>Ernst</td>\n",
      "<td>Java</td>\n",
      "<td>7</td>\n",
      "</tr>, <tr>\n",
      "<td>Isabel</td>\n",
      "<td>C++</td>\n",
      "<td>3</td>\n",
      "</tr>, <tr>\n",
      "<td>Tony</td>\n",
      "<td>Pearl</td>\n",
      "<td>7</td>\n",
      "</tr>, <tr>\n",
      "<td>Maria</td>\n",
      "<td>Cobol</td>\n",
      "<td>15</td>\n",
      "</tr>]\n"
     ]
    }
   ],
   "source": [
    "rows = table.find_all(\"tr\")\n",
    "print(rows)"
   ]
  },
  {
   "cell_type": "code",
   "execution_count": 61,
   "id": "fb5d54b2",
   "metadata": {},
   "outputs": [
    {
     "name": "stdout",
     "output_type": "stream",
     "text": [
      "<tr>\n",
      "<td>Fred</td>\n",
      "<td>Kotlin</td>\n",
      "<td>4</td>\n",
      "</tr>\n",
      "<tr>\n",
      "<td>Paula</td>\n",
      "<td>Python</td>\n",
      "<td>2</td>\n",
      "</tr>\n",
      "<tr>\n",
      "<td>Ernst</td>\n",
      "<td>Java</td>\n",
      "<td>7</td>\n",
      "</tr>\n"
     ]
    }
   ],
   "source": [
    "for i in rows[1:4]:\n",
    "   print(i)     "
   ]
  },
  {
   "cell_type": "code",
   "execution_count": 62,
   "id": "6e324c63",
   "metadata": {},
   "outputs": [
    {
     "name": "stdout",
     "output_type": "stream",
     "text": [
      "[<td>Fred</td>, <td>Kotlin</td>, <td>4</td>, <td>Paula</td>, <td>Python</td>, <td>2</td>, <td>Ernst</td>, <td>Java</td>, <td>7</td>, <td>Isabel</td>, <td>C++</td>, <td>3</td>, <td>Tony</td>, <td>Pearl</td>, <td>7</td>, <td>Maria</td>, <td>Cobol</td>, <td>15</td>]\n",
      "[<td>Fred</td>, <td>Kotlin</td>, <td>4</td>, <td>Paula</td>, <td>Python</td>, <td>2</td>, <td>Ernst</td>, <td>Java</td>, <td>7</td>, <td>Isabel</td>, <td>C++</td>, <td>3</td>, <td>Tony</td>, <td>Pearl</td>, <td>7</td>, <td>Maria</td>, <td>Cobol</td>, <td>15</td>]\n",
      "[<td>Fred</td>, <td>Kotlin</td>, <td>4</td>, <td>Paula</td>, <td>Python</td>, <td>2</td>, <td>Ernst</td>, <td>Java</td>, <td>7</td>, <td>Isabel</td>, <td>C++</td>, <td>3</td>, <td>Tony</td>, <td>Pearl</td>, <td>7</td>, <td>Maria</td>, <td>Cobol</td>, <td>15</td>]\n",
      "[<td>Fred</td>, <td>Kotlin</td>, <td>4</td>, <td>Paula</td>, <td>Python</td>, <td>2</td>, <td>Ernst</td>, <td>Java</td>, <td>7</td>, <td>Isabel</td>, <td>C++</td>, <td>3</td>, <td>Tony</td>, <td>Pearl</td>, <td>7</td>, <td>Maria</td>, <td>Cobol</td>, <td>15</td>]\n",
      "[<td>Fred</td>, <td>Kotlin</td>, <td>4</td>, <td>Paula</td>, <td>Python</td>, <td>2</td>, <td>Ernst</td>, <td>Java</td>, <td>7</td>, <td>Isabel</td>, <td>C++</td>, <td>3</td>, <td>Tony</td>, <td>Pearl</td>, <td>7</td>, <td>Maria</td>, <td>Cobol</td>, <td>15</td>]\n",
      "[<td>Fred</td>, <td>Kotlin</td>, <td>4</td>, <td>Paula</td>, <td>Python</td>, <td>2</td>, <td>Ernst</td>, <td>Java</td>, <td>7</td>, <td>Isabel</td>, <td>C++</td>, <td>3</td>, <td>Tony</td>, <td>Pearl</td>, <td>7</td>, <td>Maria</td>, <td>Cobol</td>, <td>15</td>]\n"
     ]
    }
   ],
   "source": [
    "for i in rows[1:]:\n",
    "   data = table.find_all(\"td\")\n",
    " print(data)\n",
    "  row = [tr.text for tr in data]\n",
    "print(row)"
   ]
  },
  {
   "cell_type": "code",
   "execution_count": 66,
   "id": "198a6571",
   "metadata": {},
   "outputs": [
    {
     "data": {
      "text/html": [
       "<div>\n",
       "<style scoped>\n",
       "    .dataframe tbody tr th:only-of-type {\n",
       "        vertical-align: middle;\n",
       "    }\n",
       "\n",
       "    .dataframe tbody tr th {\n",
       "        vertical-align: top;\n",
       "    }\n",
       "\n",
       "    .dataframe thead th {\n",
       "        text-align: right;\n",
       "    }\n",
       "</style>\n",
       "<table border=\"1\" class=\"dataframe\">\n",
       "  <thead>\n",
       "    <tr style=\"text-align: right;\">\n",
       "      <th></th>\n",
       "      <th>Student</th>\n",
       "      <th>Favourite Computer Language</th>\n",
       "      <th>Years of Experience</th>\n",
       "    </tr>\n",
       "  </thead>\n",
       "  <tbody>\n",
       "    <tr>\n",
       "      <th>0</th>\n",
       "      <td>Fred</td>\n",
       "      <td>Kotlin</td>\n",
       "      <td>4</td>\n",
       "    </tr>\n",
       "    <tr>\n",
       "      <th>1</th>\n",
       "      <td>Paula</td>\n",
       "      <td>Python</td>\n",
       "      <td>2</td>\n",
       "    </tr>\n",
       "    <tr>\n",
       "      <th>2</th>\n",
       "      <td>Ernst</td>\n",
       "      <td>Java</td>\n",
       "      <td>7</td>\n",
       "    </tr>\n",
       "    <tr>\n",
       "      <th>3</th>\n",
       "      <td>Isabel</td>\n",
       "      <td>C++</td>\n",
       "      <td>3</td>\n",
       "    </tr>\n",
       "    <tr>\n",
       "      <th>4</th>\n",
       "      <td>Tony</td>\n",
       "      <td>Pearl</td>\n",
       "      <td>7</td>\n",
       "    </tr>\n",
       "  </tbody>\n",
       "</table>\n",
       "</div>"
      ],
      "text/plain": [
       "  Student Favourite Computer Language Years of Experience\n",
       "0    Fred                      Kotlin                   4\n",
       "1   Paula                      Python                   2\n",
       "2   Ernst                        Java                   7\n",
       "3  Isabel                         C++                   3\n",
       "4    Tony                       Pearl                   7"
      ]
     },
     "execution_count": 66,
     "metadata": {},
     "output_type": "execute_result"
    }
   ],
   "source": [
    "for i in rows[1:]:\n",
    "    data = i.find_all(\"td\")          \n",
    "    row = [tr.text for tr in data]     \n",
    "    l =len(df)                         \n",
    "    df.loc[l]= row                     \n",
    "df.head()  "
   ]
  }
 ],
 "metadata": {
  "kernelspec": {
   "display_name": "Python 3 (ipykernel)",
   "language": "python",
   "name": "python3"
  },
  "language_info": {
   "codemirror_mode": {
    "name": "ipython",
    "version": 3
   },
   "file_extension": ".py",
   "mimetype": "text/x-python",
   "name": "python",
   "nbconvert_exporter": "python",
   "pygments_lexer": "ipython3",
   "version": "3.11.4"
  }
 },
 "nbformat": 4,
 "nbformat_minor": 5
}
